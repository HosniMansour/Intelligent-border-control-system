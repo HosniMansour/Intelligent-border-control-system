{
 "cells": [
  {
   "cell_type": "code",
   "execution_count": 1,
   "metadata": {},
   "outputs": [],
   "source": [
    "# Imports"
   ]
  },
  {
   "cell_type": "code",
   "execution_count": 1,
   "metadata": {},
   "outputs": [],
   "source": [
    "import glob\n",
    "import os \n",
    "import numpy as np\n",
    "from tqdm import tqdm_notebook as tqdm"
   ]
  },
  {
   "cell_type": "code",
   "execution_count": 3,
   "metadata": {},
   "outputs": [],
   "source": [
    "# Mean square error"
   ]
  },
  {
   "cell_type": "code",
   "execution_count": 2,
   "metadata": {},
   "outputs": [],
   "source": [
    "def mean_squared_loss(x1,x2):\n",
    "    diff=x1-x2\n",
    "    a,b,c,d,e=diff.shape\n",
    "    n_samples=a*b*c*d*e\n",
    "    sq_diff=diff**2\n",
    "    Sum=sq_diff.sum()\n",
    "    dist=np.sqrt(Sum)\n",
    "    mean_dist=dist/n_samples\n",
    "\n",
    "    return mean_dist"
   ]
  },
  {
   "cell_type": "code",
   "execution_count": 5,
   "metadata": {},
   "outputs": [],
   "source": [
    "# Process Video Train and Test Video Data"
   ]
  },
  {
   "cell_type": "code",
   "execution_count": 3,
   "metadata": {},
   "outputs": [
    {
     "name": "stderr",
     "output_type": "stream",
     "text": [
      "Using TensorFlow backend.\n"
     ]
    }
   ],
   "source": [
    "from keras.preprocessing.image import img_to_array,load_img\n",
    "from PIL import Image\n",
    "from scipy.misc import imresize"
   ]
  },
  {
   "cell_type": "code",
   "execution_count": 7,
   "metadata": {},
   "outputs": [],
   "source": [
    "def create_dir(path):\n",
    "    if not os.path.exists(path):\n",
    "        os.makedirs(path)\n",
    "\n",
    "def remove_old_images(path):\n",
    "    filelist = glob.glob(os.path.join(path, \"*.png\"))\n",
    "    for f in filelist:\n",
    "        os.remove(f)\n",
    "\n",
    "def store(image_path,imagestore):\n",
    "    img=load_img(image_path)\n",
    "    img=img_to_array(img)\n",
    "\n",
    "    #Resize the Image to (227,227,3) for the network to be able to process it. \n",
    "    img=imresize(img,(227,227,3))\n",
    "    #img = img.resize((227,227,3))\n",
    "\n",
    "    #Convert the Image to Grayscale\n",
    "    gray=0.2989*img[:,:,0]+0.5870*img[:,:,1]+0.1140*img[:,:,2]\n",
    "    imagestore.append(gray)\n",
    "    \n",
    "def create(path,fps,name,imagestore=[]):\n",
    "    #List of all Videos in the Source Directory.\n",
    "    videos=os.listdir(path)\n",
    "    print(\"Found \",len(videos),\" video\")\n",
    "    #Make a temp dir to store all the frames\n",
    "    create_dir(path+'/frames')\n",
    "\n",
    "    #Remove old images\n",
    "    remove_old_images(path+'/frames')\n",
    "    framepath=path+'/frames'\n",
    "\n",
    "    for video in tqdm(videos):\n",
    "        os.system( 'ffmpeg -i {}/{} -r 1/{}  {}/frames/%03d.jpg'.format(path,video,fps,path))\n",
    "        images=os.listdir(framepath)\n",
    "        for image in images:\n",
    "            image_path=framepath+ '/'+ image\n",
    "            store(image_path,imagestore)\n",
    "\n",
    "    imagestore=np.array(imagestore)\n",
    "    a,b,c=imagestore.shape\n",
    "\n",
    "    #Reshape to (227,227,batch_size)\n",
    "    imagestore.resize(b,c,a)\n",
    "    #Normalize\n",
    "    imagestore=(imagestore-imagestore.mean())/(imagestore.std())\n",
    "    #Clip negative Values\n",
    "    imagestore=np.clip(imagestore,0,1)\n",
    "    np.save(name,imagestore)\n",
    "    #Remove Buffer Directory\n",
    "    os.system('rm -r {}'.format(framepath))"
   ]
  },
  {
   "cell_type": "code",
   "execution_count": 8,
   "metadata": {},
   "outputs": [],
   "source": [
    "# Train Data "
   ]
  },
  {
   "cell_type": "code",
   "execution_count": 9,
   "metadata": {},
   "outputs": [
    {
     "name": "stdout",
     "output_type": "stream",
     "text": [
      "Found  16  video\n"
     ]
    },
    {
     "data": {
      "application/vnd.jupyter.widget-view+json": {
       "model_id": "6b6d4855bac145f098c24e74ea7de2bc",
       "version_major": 2,
       "version_minor": 0
      },
      "text/plain": [
       "HBox(children=(IntProgress(value=0, max=16), HTML(value='')))"
      ]
     },
     "metadata": {},
     "output_type": "display_data"
    },
    {
     "name": "stderr",
     "output_type": "stream",
     "text": [
      "D:\\Program Files\\Anaconda\\lib\\site-packages\\ipykernel_launcher.py:15: DeprecationWarning: `imresize` is deprecated!\n",
      "`imresize` is deprecated in SciPy 1.0.0, and will be removed in 1.3.0.\n",
      "Use Pillow instead: ``numpy.array(Image.fromarray(arr).resize())``.\n",
      "  from ipykernel import kernelapp as app\n"
     ]
    },
    {
     "name": "stdout",
     "output_type": "stream",
     "text": [
      "\n"
     ]
    }
   ],
   "source": [
    "video_path= \"./Dataset/training_videos\"\n",
    "# --> FPS\n",
    "fps = 5\n",
    "imagestore=[]\n",
    "create(video_path,fps,'training.npy',imagestore)"
   ]
  },
  {
   "cell_type": "code",
   "execution_count": 10,
   "metadata": {},
   "outputs": [
    {
     "name": "stdout",
     "output_type": "stream",
     "text": [
      "Found  21  video\n"
     ]
    },
    {
     "data": {
      "application/vnd.jupyter.widget-view+json": {
       "model_id": "36f32ab72eac48a7a71c62682541d17f",
       "version_major": 2,
       "version_minor": 0
      },
      "text/plain": [
       "HBox(children=(IntProgress(value=0, max=21), HTML(value='')))"
      ]
     },
     "metadata": {},
     "output_type": "display_data"
    },
    {
     "name": "stderr",
     "output_type": "stream",
     "text": [
      "D:\\Program Files\\Anaconda\\lib\\site-packages\\ipykernel_launcher.py:15: DeprecationWarning: `imresize` is deprecated!\n",
      "`imresize` is deprecated in SciPy 1.0.0, and will be removed in 1.3.0.\n",
      "Use Pillow instead: ``numpy.array(Image.fromarray(arr).resize())``.\n",
      "  from ipykernel import kernelapp as app\n"
     ]
    },
    {
     "name": "stdout",
     "output_type": "stream",
     "text": [
      "\n"
     ]
    }
   ],
   "source": [
    "video_path= \"./Dataset/testing_videos\"\n",
    "# --> FPS\n",
    "fps = 5\n",
    "imagestore=[]\n",
    "create(video_path,fps,'testing.npy',imagestore)"
   ]
  },
  {
   "cell_type": "code",
   "execution_count": 11,
   "metadata": {},
   "outputs": [],
   "source": [
    "# Model 1"
   ]
  },
  {
   "cell_type": "code",
   "execution_count": 12,
   "metadata": {},
   "outputs": [],
   "source": [
    "from keras.layers import Conv3D,ConvLSTM2D,Conv3DTranspose\n",
    "from keras.models import Sequential\n",
    "\n",
    "\n",
    "def load_model():\n",
    "    \n",
    "    model=Sequential()\n",
    "    model.add(Conv3D(filters=128,kernel_size=(11,11,1),strides=(4,4,1),padding='valid',input_shape=(227,227,10,1),activation='tanh'))\n",
    "    model.add(Conv3D(filters=64,kernel_size=(5,5,1),strides=(2,2,1),padding='valid',activation='tanh'))\n",
    "\n",
    "\n",
    "    model.add(ConvLSTM2D(filters=64,kernel_size=(3,3),strides=1,padding='same',dropout=0.4,recurrent_dropout=0.3,return_sequences=True))\n",
    "    model.add(ConvLSTM2D(filters=32,kernel_size=(3,3),strides=1,padding='same',dropout=0.3,return_sequences=True))\n",
    "    model.add(ConvLSTM2D(filters=64,kernel_size=(3,3),strides=1,return_sequences=True, padding='same',dropout=0.5))\n",
    "\n",
    "    model.add(Conv3DTranspose(filters=128,kernel_size=(5,5,1),strides=(2,2,1),padding='valid',activation='tanh'))\n",
    "    model.add(Conv3DTranspose(filters=1,kernel_size=(11,11,1),strides=(4,4,1),padding='valid',activation='tanh'))\n",
    "\n",
    "    model.compile(optimizer='adam',loss='mean_squared_error',metrics=['accuracy'])\n",
    "\n",
    "    return model"
   ]
  },
  {
   "cell_type": "code",
   "execution_count": 13,
   "metadata": {},
   "outputs": [
    {
     "name": "stdout",
     "output_type": "stream",
     "text": [
      "WARNING:tensorflow:From D:\\Program Files\\Anaconda\\lib\\site-packages\\tensorflow\\python\\framework\\op_def_library.py:263: colocate_with (from tensorflow.python.framework.ops) is deprecated and will be removed in a future version.\n",
      "Instructions for updating:\n",
      "Colocations handled automatically by placer.\n",
      "WARNING:tensorflow:From D:\\Program Files\\Anaconda\\lib\\site-packages\\keras\\backend\\tensorflow_backend.py:1242: calling reduce_sum_v1 (from tensorflow.python.ops.math_ops) with keep_dims is deprecated and will be removed in a future version.\n",
      "Instructions for updating:\n",
      "keep_dims is deprecated, use keepdims instead\n",
      "WARNING:tensorflow:From D:\\Program Files\\Anaconda\\lib\\site-packages\\keras\\backend\\tensorflow_backend.py:3013: calling dropout (from tensorflow.python.ops.nn_ops) with keep_prob is deprecated and will be removed in a future version.\n",
      "Instructions for updating:\n",
      "Please use `rate` instead of `keep_prob`. Rate should be set to `rate = 1 - keep_prob`.\n"
     ]
    }
   ],
   "source": [
    "model = load_model()"
   ]
  },
  {
   "cell_type": "code",
   "execution_count": null,
   "metadata": {},
   "outputs": [],
   "source": [
    "# ================================ Train "
   ]
  },
  {
   "cell_type": "code",
   "execution_count": 14,
   "metadata": {},
   "outputs": [],
   "source": [
    "from keras_tqdm import TQDMNotebookCallback\n",
    "from keras.callbacks import EarlyStopping, ModelCheckpoint"
   ]
  },
  {
   "cell_type": "code",
   "execution_count": 15,
   "metadata": {},
   "outputs": [
    {
     "name": "stdout",
     "output_type": "stream",
     "text": [
      "WARNING:tensorflow:From D:\\Program Files\\Anaconda\\lib\\site-packages\\tensorflow\\python\\ops\\math_ops.py:3066: to_int32 (from tensorflow.python.ops.math_ops) is deprecated and will be removed in a future version.\n",
      "Instructions for updating:\n",
      "Use tf.cast instead.\n"
     ]
    },
    {
     "data": {
      "application/vnd.jupyter.widget-view+json": {
       "model_id": "b3015010f09649f08e874dab806e0696",
       "version_major": 2,
       "version_minor": 0
      },
      "text/plain": [
       "HBox(children=(IntProgress(value=0, description='Training', max=80, style=ProgressStyle(description_width='ini…"
      ]
     },
     "metadata": {},
     "output_type": "display_data"
    },
    {
     "data": {
      "application/vnd.jupyter.widget-view+json": {
       "model_id": "f4a36faf285345c19d3726d5bc6379a7",
       "version_major": 2,
       "version_minor": 0
      },
      "text/plain": [
       "HBox(children=(IntProgress(value=0, description='Epoch 0', max=22, style=ProgressStyle(description_width='init…"
      ]
     },
     "metadata": {},
     "output_type": "display_data"
    },
    {
     "data": {
      "application/vnd.jupyter.widget-view+json": {
       "model_id": "b96ef4b4acf74beb9bb49afe62383c7d",
       "version_major": 2,
       "version_minor": 0
      },
      "text/plain": [
       "HBox(children=(IntProgress(value=0, description='Epoch 1', max=22, style=ProgressStyle(description_width='init…"
      ]
     },
     "metadata": {},
     "output_type": "display_data"
    },
    {
     "data": {
      "application/vnd.jupyter.widget-view+json": {
       "model_id": "20a7cd50cd2044f78518d99dc1bdb5bb",
       "version_major": 2,
       "version_minor": 0
      },
      "text/plain": [
       "HBox(children=(IntProgress(value=0, description='Epoch 2', max=22, style=ProgressStyle(description_width='init…"
      ]
     },
     "metadata": {},
     "output_type": "display_data"
    },
    {
     "data": {
      "application/vnd.jupyter.widget-view+json": {
       "model_id": "4754167df0af4c569df3ac2d3d6ef493",
       "version_major": 2,
       "version_minor": 0
      },
      "text/plain": [
       "HBox(children=(IntProgress(value=0, description='Epoch 3', max=22, style=ProgressStyle(description_width='init…"
      ]
     },
     "metadata": {},
     "output_type": "display_data"
    },
    {
     "data": {
      "application/vnd.jupyter.widget-view+json": {
       "model_id": "19640f9d243a4adda374d3caef5d54cf",
       "version_major": 2,
       "version_minor": 0
      },
      "text/plain": [
       "HBox(children=(IntProgress(value=0, description='Epoch 4', max=22, style=ProgressStyle(description_width='init…"
      ]
     },
     "metadata": {},
     "output_type": "display_data"
    },
    {
     "data": {
      "application/vnd.jupyter.widget-view+json": {
       "model_id": "0d955ff44cc04d16873f69d3c5c5febd",
       "version_major": 2,
       "version_minor": 0
      },
      "text/plain": [
       "HBox(children=(IntProgress(value=0, description='Epoch 5', max=22, style=ProgressStyle(description_width='init…"
      ]
     },
     "metadata": {},
     "output_type": "display_data"
    },
    {
     "data": {
      "application/vnd.jupyter.widget-view+json": {
       "model_id": "a45ed1e702d4436bb71e477a60ef01f4",
       "version_major": 2,
       "version_minor": 0
      },
      "text/plain": [
       "HBox(children=(IntProgress(value=0, description='Epoch 6', max=22, style=ProgressStyle(description_width='init…"
      ]
     },
     "metadata": {},
     "output_type": "display_data"
    },
    {
     "data": {
      "application/vnd.jupyter.widget-view+json": {
       "model_id": "2b6c45c4f1564f95b03b7973849b5471",
       "version_major": 2,
       "version_minor": 0
      },
      "text/plain": [
       "HBox(children=(IntProgress(value=0, description='Epoch 7', max=22, style=ProgressStyle(description_width='init…"
      ]
     },
     "metadata": {},
     "output_type": "display_data"
    },
    {
     "data": {
      "application/vnd.jupyter.widget-view+json": {
       "model_id": "52a8e6bae8ba4a38a257911a98111a21",
       "version_major": 2,
       "version_minor": 0
      },
      "text/plain": [
       "HBox(children=(IntProgress(value=0, description='Epoch 8', max=22, style=ProgressStyle(description_width='init…"
      ]
     },
     "metadata": {},
     "output_type": "display_data"
    },
    {
     "data": {
      "application/vnd.jupyter.widget-view+json": {
       "model_id": "4564d684d4ed4b2d9a081ae84afb55cf",
       "version_major": 2,
       "version_minor": 0
      },
      "text/plain": [
       "HBox(children=(IntProgress(value=0, description='Epoch 9', max=22, style=ProgressStyle(description_width='init…"
      ]
     },
     "metadata": {},
     "output_type": "display_data"
    },
    {
     "data": {
      "application/vnd.jupyter.widget-view+json": {
       "model_id": "b731e7d652494b82b77e51812f542718",
       "version_major": 2,
       "version_minor": 0
      },
      "text/plain": [
       "HBox(children=(IntProgress(value=0, description='Epoch 10', max=22, style=ProgressStyle(description_width='ini…"
      ]
     },
     "metadata": {},
     "output_type": "display_data"
    },
    {
     "data": {
      "application/vnd.jupyter.widget-view+json": {
       "model_id": "73e7f4530fda46619009e2ef05382b2d",
       "version_major": 2,
       "version_minor": 0
      },
      "text/plain": [
       "HBox(children=(IntProgress(value=0, description='Epoch 11', max=22, style=ProgressStyle(description_width='ini…"
      ]
     },
     "metadata": {},
     "output_type": "display_data"
    },
    {
     "data": {
      "application/vnd.jupyter.widget-view+json": {
       "model_id": "503a02837f3149fabc4b70c9061e6b73",
       "version_major": 2,
       "version_minor": 0
      },
      "text/plain": [
       "HBox(children=(IntProgress(value=0, description='Epoch 12', max=22, style=ProgressStyle(description_width='ini…"
      ]
     },
     "metadata": {},
     "output_type": "display_data"
    },
    {
     "data": {
      "application/vnd.jupyter.widget-view+json": {
       "model_id": "599dcc57897945eebea7eb17478d16c5",
       "version_major": 2,
       "version_minor": 0
      },
      "text/plain": [
       "HBox(children=(IntProgress(value=0, description='Epoch 13', max=22, style=ProgressStyle(description_width='ini…"
      ]
     },
     "metadata": {},
     "output_type": "display_data"
    },
    {
     "data": {
      "application/vnd.jupyter.widget-view+json": {
       "model_id": "3047ef8ffd584289a01034d6505f2568",
       "version_major": 2,
       "version_minor": 0
      },
      "text/plain": [
       "HBox(children=(IntProgress(value=0, description='Epoch 14', max=22, style=ProgressStyle(description_width='ini…"
      ]
     },
     "metadata": {},
     "output_type": "display_data"
    },
    {
     "data": {
      "application/vnd.jupyter.widget-view+json": {
       "model_id": "7f9a1f4b99be4a419cbc9b8cef366bad",
       "version_major": 2,
       "version_minor": 0
      },
      "text/plain": [
       "HBox(children=(IntProgress(value=0, description='Epoch 15', max=22, style=ProgressStyle(description_width='ini…"
      ]
     },
     "metadata": {},
     "output_type": "display_data"
    },
    {
     "data": {
      "application/vnd.jupyter.widget-view+json": {
       "model_id": "6063aeccde8844cf95acdc0c496a7bda",
       "version_major": 2,
       "version_minor": 0
      },
      "text/plain": [
       "HBox(children=(IntProgress(value=0, description='Epoch 16', max=22, style=ProgressStyle(description_width='ini…"
      ]
     },
     "metadata": {},
     "output_type": "display_data"
    },
    {
     "data": {
      "application/vnd.jupyter.widget-view+json": {
       "model_id": "f5936d37b40844078f66f04aa041fc5b",
       "version_major": 2,
       "version_minor": 0
      },
      "text/plain": [
       "HBox(children=(IntProgress(value=0, description='Epoch 17', max=22, style=ProgressStyle(description_width='ini…"
      ]
     },
     "metadata": {},
     "output_type": "display_data"
    },
    {
     "data": {
      "application/vnd.jupyter.widget-view+json": {
       "model_id": "6847db2b55a141acb00adb643c645734",
       "version_major": 2,
       "version_minor": 0
      },
      "text/plain": [
       "HBox(children=(IntProgress(value=0, description='Epoch 18', max=22, style=ProgressStyle(description_width='ini…"
      ]
     },
     "metadata": {},
     "output_type": "display_data"
    },
    {
     "data": {
      "application/vnd.jupyter.widget-view+json": {
       "model_id": "f8c65b54f8a24a3e91fe4e4fe64729f4",
       "version_major": 2,
       "version_minor": 0
      },
      "text/plain": [
       "HBox(children=(IntProgress(value=0, description='Epoch 19', max=22, style=ProgressStyle(description_width='ini…"
      ]
     },
     "metadata": {},
     "output_type": "display_data"
    },
    {
     "data": {
      "application/vnd.jupyter.widget-view+json": {
       "model_id": "2c2c5ce2e88c4fb4a803a2143b09adec",
       "version_major": 2,
       "version_minor": 0
      },
      "text/plain": [
       "HBox(children=(IntProgress(value=0, description='Epoch 20', max=22, style=ProgressStyle(description_width='ini…"
      ]
     },
     "metadata": {},
     "output_type": "display_data"
    },
    {
     "data": {
      "application/vnd.jupyter.widget-view+json": {
       "model_id": "6da7626ae3d5481d8614c4358a251083",
       "version_major": 2,
       "version_minor": 0
      },
      "text/plain": [
       "HBox(children=(IntProgress(value=0, description='Epoch 21', max=22, style=ProgressStyle(description_width='ini…"
      ]
     },
     "metadata": {},
     "output_type": "display_data"
    },
    {
     "data": {
      "application/vnd.jupyter.widget-view+json": {
       "model_id": "9b89e36718ef4a3f88ebf51879701da2",
       "version_major": 2,
       "version_minor": 0
      },
      "text/plain": [
       "HBox(children=(IntProgress(value=0, description='Epoch 22', max=22, style=ProgressStyle(description_width='ini…"
      ]
     },
     "metadata": {},
     "output_type": "display_data"
    },
    {
     "data": {
      "application/vnd.jupyter.widget-view+json": {
       "model_id": "8e61b172fc70459cacd5f25501cf9770",
       "version_major": 2,
       "version_minor": 0
      },
      "text/plain": [
       "HBox(children=(IntProgress(value=0, description='Epoch 23', max=22, style=ProgressStyle(description_width='ini…"
      ]
     },
     "metadata": {},
     "output_type": "display_data"
    },
    {
     "data": {
      "application/vnd.jupyter.widget-view+json": {
       "model_id": "16519d0a95e04c9caaf110de5294b631",
       "version_major": 2,
       "version_minor": 0
      },
      "text/plain": [
       "HBox(children=(IntProgress(value=0, description='Epoch 24', max=22, style=ProgressStyle(description_width='ini…"
      ]
     },
     "metadata": {},
     "output_type": "display_data"
    },
    {
     "data": {
      "application/vnd.jupyter.widget-view+json": {
       "model_id": "8d3254ef72344310bcb78180b0618c7b",
       "version_major": 2,
       "version_minor": 0
      },
      "text/plain": [
       "HBox(children=(IntProgress(value=0, description='Epoch 25', max=22, style=ProgressStyle(description_width='ini…"
      ]
     },
     "metadata": {},
     "output_type": "display_data"
    },
    {
     "data": {
      "application/vnd.jupyter.widget-view+json": {
       "model_id": "8d2adf06312f4db0919f1afec1190140",
       "version_major": 2,
       "version_minor": 0
      },
      "text/plain": [
       "HBox(children=(IntProgress(value=0, description='Epoch 26', max=22, style=ProgressStyle(description_width='ini…"
      ]
     },
     "metadata": {},
     "output_type": "display_data"
    },
    {
     "data": {
      "application/vnd.jupyter.widget-view+json": {
       "model_id": "d17529cdf21b42c29e84cbe46428bfe1",
       "version_major": 2,
       "version_minor": 0
      },
      "text/plain": [
       "HBox(children=(IntProgress(value=0, description='Epoch 27', max=22, style=ProgressStyle(description_width='ini…"
      ]
     },
     "metadata": {},
     "output_type": "display_data"
    },
    {
     "data": {
      "application/vnd.jupyter.widget-view+json": {
       "model_id": "25dfe789299e44d6b8e7e50ba1c184a1",
       "version_major": 2,
       "version_minor": 0
      },
      "text/plain": [
       "HBox(children=(IntProgress(value=0, description='Epoch 28', max=22, style=ProgressStyle(description_width='ini…"
      ]
     },
     "metadata": {},
     "output_type": "display_data"
    },
    {
     "data": {
      "application/vnd.jupyter.widget-view+json": {
       "model_id": "716776b488724534b0ce486c65bac4b7",
       "version_major": 2,
       "version_minor": 0
      },
      "text/plain": [
       "HBox(children=(IntProgress(value=0, description='Epoch 29', max=22, style=ProgressStyle(description_width='ini…"
      ]
     },
     "metadata": {},
     "output_type": "display_data"
    },
    {
     "data": {
      "application/vnd.jupyter.widget-view+json": {
       "model_id": "96485e2e43f6439fbed03ec7a733d33d",
       "version_major": 2,
       "version_minor": 0
      },
      "text/plain": [
       "HBox(children=(IntProgress(value=0, description='Epoch 30', max=22, style=ProgressStyle(description_width='ini…"
      ]
     },
     "metadata": {},
     "output_type": "display_data"
    },
    {
     "data": {
      "application/vnd.jupyter.widget-view+json": {
       "model_id": "0bf9435e7df1454384ac2335bbfd1c55",
       "version_major": 2,
       "version_minor": 0
      },
      "text/plain": [
       "HBox(children=(IntProgress(value=0, description='Epoch 31', max=22, style=ProgressStyle(description_width='ini…"
      ]
     },
     "metadata": {},
     "output_type": "display_data"
    },
    {
     "name": "stdout",
     "output_type": "stream",
     "text": [
      "\n"
     ]
    }
   ],
   "source": [
    "X_train=np.load('training.npy')\n",
    "frames=X_train.shape[2]\n",
    "\n",
    "frames=frames-frames%10\n",
    "\n",
    "X_train=X_train[:,:,:frames]\n",
    "X_train=X_train.reshape(-1,227,227,10)\n",
    "X_train=np.expand_dims(X_train,axis=4)\n",
    "Y_train=X_train.copy()\n",
    "\n",
    "epochs=80\n",
    "batch_size=1\n",
    "\n",
    "callback_early_stopping = EarlyStopping(monitor='loss', patience=3)\n",
    "callback_save = ModelCheckpoint(\"model.h5\", monitor=\"mean_squared_error\", save_best_only=True)\n",
    "\n",
    "model.fit(X_train,Y_train,\n",
    "          batch_size=batch_size,\n",
    "          epochs=epochs,\n",
    "          verbose=0, callbacks = [TQDMNotebookCallback(leave_inner=True,leave_outer=True),callback_early_stopping]\n",
    "          )\n",
    "\n",
    "model.save('model.h5')"
   ]
  },
  {
   "cell_type": "code",
   "execution_count": 4,
   "metadata": {},
   "outputs": [
    {
     "name": "stdout",
     "output_type": "stream",
     "text": [
      "WARNING:tensorflow:From D:\\Program Files\\Anaconda\\lib\\site-packages\\tensorflow\\python\\framework\\op_def_library.py:263: colocate_with (from tensorflow.python.framework.ops) is deprecated and will be removed in a future version.\n",
      "Instructions for updating:\n",
      "Colocations handled automatically by placer.\n",
      "WARNING:tensorflow:From D:\\Program Files\\Anaconda\\lib\\site-packages\\keras\\backend\\tensorflow_backend.py:1242: calling reduce_sum_v1 (from tensorflow.python.ops.math_ops) with keep_dims is deprecated and will be removed in a future version.\n",
      "Instructions for updating:\n",
      "keep_dims is deprecated, use keepdims instead\n",
      "WARNING:tensorflow:From D:\\Program Files\\Anaconda\\lib\\site-packages\\keras\\backend\\tensorflow_backend.py:3013: calling dropout (from tensorflow.python.ops.nn_ops) with keep_prob is deprecated and will be removed in a future version.\n",
      "Instructions for updating:\n",
      "Please use `rate` instead of `keep_prob`. Rate should be set to `rate = 1 - keep_prob`.\n",
      "WARNING:tensorflow:From D:\\Program Files\\Anaconda\\lib\\site-packages\\tensorflow\\python\\ops\\math_ops.py:3066: to_int32 (from tensorflow.python.ops.math_ops) is deprecated and will be removed in a future version.\n",
      "Instructions for updating:\n",
      "Use tf.cast instead.\n"
     ]
    }
   ],
   "source": [
    "from keras.models import load_model\n",
    "model = load_model(\"model.h5\")"
   ]
  },
  {
   "cell_type": "code",
   "execution_count": 8,
   "metadata": {},
   "outputs": [
    {
     "name": "stdout",
     "output_type": "stream",
     "text": [
      "Bunch Normal\n",
      "Bunch Normal\n",
      "Bunch Normal\n",
      "Bunch Normal\n",
      "Bunch Normal\n",
      "Bunch Normal\n",
      "Bunch Normal\n",
      "Bunch Normal\n",
      "Bunch Normal\n",
      "Bunch Normal\n",
      "Bunch Normal\n",
      "Bunch Normal\n",
      "Bunch Normal\n",
      "Bunch Normal\n",
      "Bunch Normal\n",
      "Bunch Normal\n",
      "Bunch Normal\n",
      "Bunch Normal\n",
      "Bunch Normal\n",
      "Bunch Normal\n",
      "Bunch Normal\n",
      "Bunch Normal\n",
      "Bunch Normal\n",
      "Bunch Normal\n",
      "Bunch Normal\n",
      "Bunch Normal\n",
      "Bunch Normal\n"
     ]
    }
   ],
   "source": [
    "threshold=0.00051\n",
    "X_test=np.load('testing.npy')\n",
    "frames=X_test.shape[2]\n",
    "\n",
    "flag=0 #Overall video flagq\n",
    "frames=frames-frames%10\n",
    "\n",
    "X_test=X_test[:,:,:frames]\n",
    "X_test=X_test.reshape(-1,227,227,10)\n",
    "X_test=np.expand_dims(X_test,axis=4)\n",
    "\n",
    "for number,bunch in enumerate(X_test):\n",
    "    n_bunch=np.expand_dims(bunch,axis=0)\n",
    "    reconstructed_bunch=model.predict(n_bunch)\n",
    "\n",
    "\n",
    "    loss=mean_squared_loss(n_bunch,reconstructed_bunch)\n",
    "\n",
    "    if loss>threshold:\n",
    "        print(\"Anomalous bunch of frames at bunch number {}\".format(number))\n",
    "        flag=1\n",
    "    else:\n",
    "        print('Bunch Normal')\n",
    "\n",
    "\n",
    "if flag==1:\n",
    "    print(\"Anomalous Events detected\")"
   ]
  },
  {
   "cell_type": "code",
   "execution_count": 18,
   "metadata": {},
   "outputs": [],
   "source": [
    "# Camera"
   ]
  },
  {
   "cell_type": "code",
   "execution_count": 19,
   "metadata": {},
   "outputs": [],
   "source": [
    "from keras.models import load_model"
   ]
  },
  {
   "cell_type": "code",
   "execution_count": 20,
   "metadata": {},
   "outputs": [],
   "source": [
    "#model = load_model('model.h5')"
   ]
  },
  {
   "cell_type": "code",
   "execution_count": 5,
   "metadata": {
    "scrolled": false
   },
   "outputs": [
    {
     "name": "stderr",
     "output_type": "stream",
     "text": [
      "D:\\Program Files\\Anaconda\\lib\\site-packages\\ipykernel_launcher.py:24: DeprecationWarning: `imresize` is deprecated!\n",
      "`imresize` is deprecated in SciPy 1.0.0, and will be removed in 1.3.0.\n",
      "Use Pillow instead: ``numpy.array(Image.fromarray(arr).resize())``.\n"
     ]
    },
    {
     "name": "stdout",
     "output_type": "stream",
     "text": [
      "Anomalies Detected\n",
      "Anomalies Detected\n",
      "Anomalies Detected\n",
      "Anomalies Detected\n"
     ]
    }
   ],
   "source": [
    "import cv2\n",
    "%matplotlib inline\n",
    "\n",
    "vc=cv2.VideoCapture(1)\n",
    "rval=True\n",
    "\n",
    "#threshold=0.0005\n",
    "threshold=0.00051\n",
    "text = \"\"\n",
    "while rval:\n",
    "    imagedump=[]\n",
    "    for i in range(10):\n",
    "        ok_flag,frame=vc.read()\n",
    "        cv2.putText(frame, text, (250, 50), cv2.FONT_HERSHEY_DUPLEX, 2, (0, 0, 255))\n",
    "        cv2.imshow(\"Camera\", frame)\n",
    "        \n",
    "        \n",
    "        if cv2.waitKey(1) & 0xFF == ord('q'):\n",
    "            rval = False\n",
    "            \n",
    "        if cv2.waitKey(1) == 27:\n",
    "            rval = False\n",
    "            \n",
    "        frame=imresize(frame,(227,227,3))\n",
    "\n",
    "        #Convert the Image to Grayscale\n",
    "\n",
    "        gray=0.2989*frame[:,:,0]+0.5870*frame[:,:,1]+0.1140*frame[:,:,2]\n",
    "        gray=(gray-gray.mean())/gray.std()\n",
    "        gray=np.clip(gray,0,1)\n",
    "        imagedump.append(gray)\n",
    "\n",
    "    imagedump=np.array(imagedump)\n",
    "\n",
    "    imagedump.resize(227,227,10)\n",
    "    imagedump=np.expand_dims(imagedump,axis=0)\n",
    "    imagedump=np.expand_dims(imagedump,axis=4)\n",
    "\n",
    "\n",
    "    #print('Processing data')\n",
    "    text = \"\"\n",
    "\n",
    "    output=model.predict(imagedump)\n",
    "    loss=mean_squared_loss(imagedump,output)\n",
    "\n",
    "\n",
    "    if loss>threshold:\n",
    "        text = \"Anomalies Detected\"\n",
    "        print('Anomalies Detected')\n",
    "\n",
    "cv2.destroyAllWindows()"
   ]
  }
 ],
 "metadata": {
  "kernelspec": {
   "display_name": "Python 3",
   "language": "python",
   "name": "python3"
  },
  "language_info": {
   "codemirror_mode": {
    "name": "ipython",
    "version": 3
   },
   "file_extension": ".py",
   "mimetype": "text/x-python",
   "name": "python",
   "nbconvert_exporter": "python",
   "pygments_lexer": "ipython3",
   "version": "3.6.8"
  },
  "widgets": {
   "application/vnd.jupyter.widget-state+json": {
    "state": {
     "018c1a3380444010a4bd47d7e8e767b9": {
      "model_module": "@jupyter-widgets/base",
      "model_module_version": "1.1.0",
      "model_name": "LayoutModel",
      "state": {}
     },
     "02f01237a90443a29c2330b4a5392d00": {
      "model_module": "@jupyter-widgets/controls",
      "model_module_version": "1.4.0",
      "model_name": "HTMLModel",
      "state": {
       "layout": "IPY_MODEL_c7d10c53903340d09c7a81fa0c45db75",
       "style": "IPY_MODEL_9b9ce427439d4f9c87ffa7f570b5689b",
       "value": "100% 17/17 [00:35&lt;00:00,  1.50s/it]"
      }
     },
     "047f4dbb72324a6696035081e673b0e3": {
      "model_module": "@jupyter-widgets/controls",
      "model_module_version": "1.4.0",
      "model_name": "ProgressStyleModel",
      "state": {
       "description_width": "initial"
      }
     },
     "0606d29ba1a0464fb4b3dbd8b179c27b": {
      "model_module": "@jupyter-widgets/controls",
      "model_module_version": "1.4.0",
      "model_name": "IntProgressModel",
      "state": {
       "bar_style": "success",
       "layout": "IPY_MODEL_996840e1fd67412693cdbec27d54a4b6",
       "max": 17,
       "style": "IPY_MODEL_714aeecf33c54368bc69b07dd9591e68",
       "value": 17
      }
     },
     "067cdc34cd644cd3bc22d88070bbd3f3": {
      "model_module": "@jupyter-widgets/controls",
      "model_module_version": "1.4.0",
      "model_name": "HBoxModel",
      "state": {
       "children": [
        "IPY_MODEL_75a733050e624e12b6a63a57ae4f6ea4",
        "IPY_MODEL_68f04e698a454134bb2525250cad13ff"
       ],
       "layout": "IPY_MODEL_4cff888b17b44d2bb869e3e18f2e6385"
      }
     },
     "06bfd58868384053b26b926c9c746b27": {
      "model_module": "@jupyter-widgets/base",
      "model_module_version": "1.1.0",
      "model_name": "LayoutModel",
      "state": {}
     },
     "0708a580259243198720cd62dd42849f": {
      "model_module": "@jupyter-widgets/base",
      "model_module_version": "1.1.0",
      "model_name": "LayoutModel",
      "state": {}
     },
     "08a1c02b17154a2190c47a65c5f586e5": {
      "model_module": "@jupyter-widgets/controls",
      "model_module_version": "1.4.0",
      "model_name": "DescriptionStyleModel",
      "state": {
       "description_width": ""
      }
     },
     "0a884585629745759147d6be937e334e": {
      "model_module": "@jupyter-widgets/controls",
      "model_module_version": "1.4.0",
      "model_name": "DescriptionStyleModel",
      "state": {
       "description_width": ""
      }
     },
     "0ab42c26ae7341fabeadb76abd6f1477": {
      "model_module": "@jupyter-widgets/base",
      "model_module_version": "1.1.0",
      "model_name": "LayoutModel",
      "state": {}
     },
     "0ade635931bf4f0888e64b29e4028476": {
      "model_module": "@jupyter-widgets/controls",
      "model_module_version": "1.4.0",
      "model_name": "IntProgressModel",
      "state": {
       "description": "Epoch 3",
       "layout": "IPY_MODEL_d9f73866acf14628a9ddaee76587397d",
       "max": 104,
       "style": "IPY_MODEL_4c00c9f0769a4e3bbb6e50cbdc17ba31",
       "value": 104
      }
     },
     "0b1184439bb74d87ad577b2e49ffb020": {
      "model_module": "@jupyter-widgets/controls",
      "model_module_version": "1.4.0",
      "model_name": "HBoxModel",
      "state": {
       "children": [
        "IPY_MODEL_5e4584da499b4f4bb5d944d6008c24d8",
        "IPY_MODEL_b1e8d3845bc54cb0b6a553345e1c9f37"
       ],
       "layout": "IPY_MODEL_87b4a5939c534db6ad222e8d92374808"
      }
     },
     "0b5ed93d91ee4e8193f4e732937b31a0": {
      "model_module": "@jupyter-widgets/base",
      "model_module_version": "1.1.0",
      "model_name": "LayoutModel",
      "state": {}
     },
     "0b62f008ce104a7b83cafe01bc90d899": {
      "model_module": "@jupyter-widgets/controls",
      "model_module_version": "1.4.0",
      "model_name": "HTMLModel",
      "state": {
       "layout": "IPY_MODEL_85fd702e5d2c40afa7354a7322bb601b",
       "style": "IPY_MODEL_e7b562ae63c149188e676efaf0f4b950",
       "value": "100% 21/21 [00:04&lt;00:00,  4.30it/s]"
      }
     },
     "0c243f7e36394f5bb7d19fee2e5631f3": {
      "model_module": "@jupyter-widgets/controls",
      "model_module_version": "1.4.0",
      "model_name": "HTMLModel",
      "state": {
       "layout": "IPY_MODEL_8ef47a2713fe40a2acca687e9da9a077",
       "style": "IPY_MODEL_c1d20d0463e44ef597d87194226a077b",
       "value": "100% 17/17 [00:34&lt;00:00,  1.56s/it]"
      }
     },
     "0cf544976b5d4abf88b9eaa5deb4e65d": {
      "model_module": "@jupyter-widgets/controls",
      "model_module_version": "1.4.0",
      "model_name": "ProgressStyleModel",
      "state": {
       "description_width": ""
      }
     },
     "0d9b2fcff5ea42aaa0e3eb2e9bcafdc1": {
      "model_module": "@jupyter-widgets/controls",
      "model_module_version": "1.4.0",
      "model_name": "HBoxModel",
      "state": {
       "children": [
        "IPY_MODEL_d9848a16139b4791af034e6f76b325ba",
        "IPY_MODEL_0b62f008ce104a7b83cafe01bc90d899"
       ],
       "layout": "IPY_MODEL_fe5b2548370b4aa3b922ae9c57aeb88f"
      }
     },
     "12444795e51b46fc977d96b2e9598876": {
      "model_module": "@jupyter-widgets/base",
      "model_module_version": "1.1.0",
      "model_name": "LayoutModel",
      "state": {}
     },
     "14678cdc035b44ec800661315584b8e3": {
      "model_module": "@jupyter-widgets/controls",
      "model_module_version": "1.4.0",
      "model_name": "ProgressStyleModel",
      "state": {
       "description_width": "initial"
      }
     },
     "14a4064adcdd4074a6ea793230b5675a": {
      "model_module": "@jupyter-widgets/controls",
      "model_module_version": "1.4.0",
      "model_name": "HBoxModel",
      "state": {
       "children": [
        "IPY_MODEL_687a9023d2f9437facd1d167f148751d",
        "IPY_MODEL_02f01237a90443a29c2330b4a5392d00"
       ],
       "layout": "IPY_MODEL_8f6800c197444c5c88c4e1d9317652f7"
      }
     },
     "150e8de27e454bb1ae504ac71db91393": {
      "model_module": "@jupyter-widgets/controls",
      "model_module_version": "1.4.0",
      "model_name": "DescriptionStyleModel",
      "state": {
       "description_width": ""
      }
     },
     "15dbc9b694b3431c8f6af30902434b6e": {
      "model_module": "@jupyter-widgets/controls",
      "model_module_version": "1.4.0",
      "model_name": "DescriptionStyleModel",
      "state": {
       "description_width": ""
      }
     },
     "15e13856558a4d2790a724e894a71861": {
      "model_module": "@jupyter-widgets/controls",
      "model_module_version": "1.4.0",
      "model_name": "ProgressStyleModel",
      "state": {
       "description_width": ""
      }
     },
     "16f4fafd5dc444cda3f75ec7da807076": {
      "model_module": "@jupyter-widgets/base",
      "model_module_version": "1.1.0",
      "model_name": "LayoutModel",
      "state": {}
     },
     "18f9e5673ce34327a0763b9a041c317b": {
      "model_module": "@jupyter-widgets/base",
      "model_module_version": "1.1.0",
      "model_name": "LayoutModel",
      "state": {}
     },
     "1a0bae8100054bd6aff884dda3bbfc11": {
      "model_module": "@jupyter-widgets/controls",
      "model_module_version": "1.4.0",
      "model_name": "HBoxModel",
      "state": {
       "children": [
        "IPY_MODEL_cc65f5493b18498e8a4de89207c67997",
        "IPY_MODEL_5f8800cfd230437c9ba12a84d83e7c0d"
       ],
       "layout": "IPY_MODEL_3325e08da78844b2b0f15510124ed67e"
      }
     },
     "1b0c3a4187204103bb05d900c2d14175": {
      "model_module": "@jupyter-widgets/base",
      "model_module_version": "1.1.0",
      "model_name": "LayoutModel",
      "state": {}
     },
     "1e4dfb75fd9142d5bee9d68137afa2cd": {
      "model_module": "@jupyter-widgets/controls",
      "model_module_version": "1.4.0",
      "model_name": "ProgressStyleModel",
      "state": {
       "description_width": "initial"
      }
     },
     "1eb97919c5e64b8cbf370e095a48ce9a": {
      "model_module": "@jupyter-widgets/controls",
      "model_module_version": "1.4.0",
      "model_name": "ProgressStyleModel",
      "state": {
       "description_width": ""
      }
     },
     "1ffbfc5fec8947cc88dd3d2869417949": {
      "model_module": "@jupyter-widgets/base",
      "model_module_version": "1.1.0",
      "model_name": "LayoutModel",
      "state": {}
     },
     "21cf66169ca44faab5c77cbcd323c71b": {
      "model_module": "@jupyter-widgets/controls",
      "model_module_version": "1.4.0",
      "model_name": "DescriptionStyleModel",
      "state": {
       "description_width": ""
      }
     },
     "25d89a942504469e894d5f5351b79bc4": {
      "model_module": "@jupyter-widgets/base",
      "model_module_version": "1.1.0",
      "model_name": "LayoutModel",
      "state": {}
     },
     "261e1400342346488883df1a91127b15": {
      "model_module": "@jupyter-widgets/controls",
      "model_module_version": "1.4.0",
      "model_name": "HTMLModel",
      "state": {
       "layout": "IPY_MODEL_25d89a942504469e894d5f5351b79bc4",
       "style": "IPY_MODEL_d4a4c0912193488ca11d53fbcd24e4f6",
       "value": " 40% 2/5 [00:59&lt;01:29, 29.77s/it]"
      }
     },
     "275684cf0f1d43ada10fde64ac951c62": {
      "model_module": "@jupyter-widgets/base",
      "model_module_version": "1.1.0",
      "model_name": "LayoutModel",
      "state": {}
     },
     "2779d39af5824d3b91bf51f2a623a9e5": {
      "model_module": "@jupyter-widgets/controls",
      "model_module_version": "1.4.0",
      "model_name": "ProgressStyleModel",
      "state": {
       "description_width": "initial"
      }
     },
     "2d6149458c964d5c85f9c28e43182536": {
      "model_module": "@jupyter-widgets/controls",
      "model_module_version": "1.4.0",
      "model_name": "HTMLModel",
      "state": {
       "layout": "IPY_MODEL_61603fc0b1ed4737b5b52c0e18389141",
       "style": "IPY_MODEL_38fbecf03543408ebd688c84fde41aa8",
       "value": "100% 17/17 [00:35&lt;00:00,  1.52s/it]"
      }
     },
     "2f62d077312a4f9eab7b68d3079dc14e": {
      "model_module": "@jupyter-widgets/base",
      "model_module_version": "1.1.0",
      "model_name": "LayoutModel",
      "state": {}
     },
     "320416ef3f064bbebe6b30eaf0c558f3": {
      "model_module": "@jupyter-widgets/controls",
      "model_module_version": "1.4.0",
      "model_name": "IntProgressModel",
      "state": {
       "bar_style": "success",
       "layout": "IPY_MODEL_cf741611284d4736a42403f5cc8b7141",
       "max": 17,
       "style": "IPY_MODEL_453f5b9968ed4defbb7ccfe3736ea4ff",
       "value": 17
      }
     },
     "3325883421d848488deccd21f6c618c2": {
      "model_module": "@jupyter-widgets/controls",
      "model_module_version": "1.4.0",
      "model_name": "HBoxModel",
      "state": {
       "children": [
        "IPY_MODEL_e3e82d1431344097a25ad6933c770005",
        "IPY_MODEL_2d6149458c964d5c85f9c28e43182536"
       ],
       "layout": "IPY_MODEL_0ab42c26ae7341fabeadb76abd6f1477"
      }
     },
     "3325e08da78844b2b0f15510124ed67e": {
      "model_module": "@jupyter-widgets/base",
      "model_module_version": "1.1.0",
      "model_name": "LayoutModel",
      "state": {}
     },
     "3484920ccffe4882aa2d63d0b0556ce0": {
      "model_module": "@jupyter-widgets/controls",
      "model_module_version": "1.4.0",
      "model_name": "DescriptionStyleModel",
      "state": {
       "description_width": ""
      }
     },
     "348d0da93e9344a482ffdee4484f8480": {
      "model_module": "@jupyter-widgets/base",
      "model_module_version": "1.1.0",
      "model_name": "LayoutModel",
      "state": {}
     },
     "37d8e2d862bb470ea60bf5123ab7d0b0": {
      "model_module": "@jupyter-widgets/base",
      "model_module_version": "1.1.0",
      "model_name": "LayoutModel",
      "state": {}
     },
     "38edc37306964cf79044cd212e280fed": {
      "model_module": "@jupyter-widgets/controls",
      "model_module_version": "1.4.0",
      "model_name": "IntProgressModel",
      "state": {
       "description": "Epoch 1",
       "layout": "IPY_MODEL_1ffbfc5fec8947cc88dd3d2869417949",
       "max": 104,
       "style": "IPY_MODEL_a8bc879d71be4665abddc934980b75c0",
       "value": 104
      }
     },
     "38fbecf03543408ebd688c84fde41aa8": {
      "model_module": "@jupyter-widgets/controls",
      "model_module_version": "1.4.0",
      "model_name": "DescriptionStyleModel",
      "state": {
       "description_width": ""
      }
     },
     "3aa17e41356c406a8c697c600544e516": {
      "model_module": "@jupyter-widgets/base",
      "model_module_version": "1.1.0",
      "model_name": "LayoutModel",
      "state": {}
     },
     "3bfcb698a66f47449d7b2e962ec20e23": {
      "model_module": "@jupyter-widgets/controls",
      "model_module_version": "1.4.0",
      "model_name": "HTMLModel",
      "state": {
       "layout": "IPY_MODEL_446e69d5d6cc486196ee12e202b0d17a",
       "style": "IPY_MODEL_e1d7bd98291c4acab655ca2d0abb3d92",
       "value": "[loss: 0.077, acc: 0.726] : 100% 104/104 [00:29&lt;00:00,  3.58it/s]"
      }
     },
     "3e261b9a19644e36b4afd707700dad9b": {
      "model_module": "@jupyter-widgets/base",
      "model_module_version": "1.1.0",
      "model_name": "LayoutModel",
      "state": {}
     },
     "3e6f5cb2f157437d8c56c807e8bb3b64": {
      "model_module": "@jupyter-widgets/base",
      "model_module_version": "1.1.0",
      "model_name": "LayoutModel",
      "state": {}
     },
     "3f7395ad49c2495a9e0ab4fe9d4fb6ae": {
      "model_module": "@jupyter-widgets/controls",
      "model_module_version": "1.4.0",
      "model_name": "HBoxModel",
      "state": {
       "children": [
        "IPY_MODEL_320416ef3f064bbebe6b30eaf0c558f3",
        "IPY_MODEL_86226da81f3e4c0396e9fc0d637a2902"
       ],
       "layout": "IPY_MODEL_018c1a3380444010a4bd47d7e8e767b9"
      }
     },
     "41897bb13dfd44258bdc7dff81668f30": {
      "model_module": "@jupyter-widgets/controls",
      "model_module_version": "1.4.0",
      "model_name": "DescriptionStyleModel",
      "state": {
       "description_width": ""
      }
     },
     "4253bdc270fa4c6a83bb74134bc006ed": {
      "model_module": "@jupyter-widgets/base",
      "model_module_version": "1.1.0",
      "model_name": "LayoutModel",
      "state": {}
     },
     "42fee32c28a64d2cab24d34b63281671": {
      "model_module": "@jupyter-widgets/base",
      "model_module_version": "1.1.0",
      "model_name": "LayoutModel",
      "state": {}
     },
     "4367e3ba668f448989d15063cd015fa0": {
      "model_module": "@jupyter-widgets/controls",
      "model_module_version": "1.4.0",
      "model_name": "IntProgressModel",
      "state": {
       "description": "Epoch 0",
       "layout": "IPY_MODEL_e2796d1ec24d415da728d6c21e889dd8",
       "max": 104,
       "style": "IPY_MODEL_4dcac2b16274408ea1b91415b9827ade",
       "value": 104
      }
     },
     "440a3f4667d84f7cb08852c334221bb8": {
      "model_module": "@jupyter-widgets/controls",
      "model_module_version": "1.4.0",
      "model_name": "IntProgressModel",
      "state": {
       "bar_style": "success",
       "layout": "IPY_MODEL_730118b6990142cf8df74e93b66ec76e",
       "max": 22,
       "style": "IPY_MODEL_c77a230c88d546a088541659766a50b9",
       "value": 22
      }
     },
     "446e69d5d6cc486196ee12e202b0d17a": {
      "model_module": "@jupyter-widgets/base",
      "model_module_version": "1.1.0",
      "model_name": "LayoutModel",
      "state": {}
     },
     "453f5b9968ed4defbb7ccfe3736ea4ff": {
      "model_module": "@jupyter-widgets/controls",
      "model_module_version": "1.4.0",
      "model_name": "ProgressStyleModel",
      "state": {
       "description_width": ""
      }
     },
     "48ce2d69264744a081db336fdf4f7797": {
      "model_module": "@jupyter-widgets/controls",
      "model_module_version": "1.4.0",
      "model_name": "HTMLModel",
      "state": {
       "layout": "IPY_MODEL_61257346dc66402a8e9f35d87a17b592",
       "style": "IPY_MODEL_3484920ccffe4882aa2d63d0b0556ce0",
       "value": "[loss: 0.079, acc: 0.723] : 100% 104/104 [00:29&lt;00:00,  3.54it/s]"
      }
     },
     "4965ff408abc4b7fa39c5761644734c3": {
      "model_module": "@jupyter-widgets/controls",
      "model_module_version": "1.4.0",
      "model_name": "IntProgressModel",
      "state": {
       "bar_style": "danger",
       "layout": "IPY_MODEL_3e261b9a19644e36b4afd707700dad9b",
       "max": 17,
       "style": "IPY_MODEL_d4aa0dbc0a7c413089b9c5a7ab653d4d"
      }
     },
     "4a10a4b289a14b028015c528966e596c": {
      "model_module": "@jupyter-widgets/controls",
      "model_module_version": "1.4.0",
      "model_name": "HBoxModel",
      "state": {
       "children": [
        "IPY_MODEL_6cf1a6722269493ca93f25e8477f623d",
        "IPY_MODEL_6798a913dce747dd93af616eccc62f96"
       ],
       "layout": "IPY_MODEL_5478a351edba43bfbce82a93731ad528"
      }
     },
     "4c00c9f0769a4e3bbb6e50cbdc17ba31": {
      "model_module": "@jupyter-widgets/controls",
      "model_module_version": "1.4.0",
      "model_name": "ProgressStyleModel",
      "state": {
       "description_width": "initial"
      }
     },
     "4c9be232d81d45fa9943f37223ef1129": {
      "model_module": "@jupyter-widgets/controls",
      "model_module_version": "1.4.0",
      "model_name": "HTMLModel",
      "state": {
       "layout": "IPY_MODEL_3aa17e41356c406a8c697c600544e516",
       "style": "IPY_MODEL_e09351ecfe924421be82c634f4dbf719",
       "value": "100% 16/16 [00:36&lt;00:00,  1.73s/it]"
      }
     },
     "4cff888b17b44d2bb869e3e18f2e6385": {
      "model_module": "@jupyter-widgets/base",
      "model_module_version": "1.1.0",
      "model_name": "LayoutModel",
      "state": {}
     },
     "4d6c395efd4a4e54a8d1d2fa3065a448": {
      "model_module": "@jupyter-widgets/controls",
      "model_module_version": "1.4.0",
      "model_name": "ProgressStyleModel",
      "state": {
       "description_width": "initial"
      }
     },
     "4da5929ef2b34dfd9297b6ce6fd6dee1": {
      "model_module": "@jupyter-widgets/controls",
      "model_module_version": "1.4.0",
      "model_name": "ProgressStyleModel",
      "state": {
       "description_width": ""
      }
     },
     "4dcac2b16274408ea1b91415b9827ade": {
      "model_module": "@jupyter-widgets/controls",
      "model_module_version": "1.4.0",
      "model_name": "ProgressStyleModel",
      "state": {
       "description_width": "initial"
      }
     },
     "4f8bc04eebaf45eeaedb6c0d15233c99": {
      "model_module": "@jupyter-widgets/controls",
      "model_module_version": "1.4.0",
      "model_name": "DescriptionStyleModel",
      "state": {
       "description_width": ""
      }
     },
     "51a8e1e1a5934c4f89d1c32b92e71ad0": {
      "model_module": "@jupyter-widgets/controls",
      "model_module_version": "1.4.0",
      "model_name": "HTMLModel",
      "state": {
       "layout": "IPY_MODEL_a1bc8cc5a0f248aaa3917f72447a9ccb",
       "style": "IPY_MODEL_6c50099faca14d66851b5e3788efe740",
       "value": "100% 17/17 [00:33&lt;00:00,  1.53s/it]"
      }
     },
     "51df18d4f1a242508291b1e1eff3d1e5": {
      "model_module": "@jupyter-widgets/base",
      "model_module_version": "1.1.0",
      "model_name": "LayoutModel",
      "state": {}
     },
     "5478a351edba43bfbce82a93731ad528": {
      "model_module": "@jupyter-widgets/base",
      "model_module_version": "1.1.0",
      "model_name": "LayoutModel",
      "state": {}
     },
     "589ce6c25add4b0b844b8c55faa02793": {
      "model_module": "@jupyter-widgets/base",
      "model_module_version": "1.1.0",
      "model_name": "LayoutModel",
      "state": {}
     },
     "59a80275b4f940d59fbe1e92cffb041e": {
      "model_module": "@jupyter-widgets/base",
      "model_module_version": "1.1.0",
      "model_name": "LayoutModel",
      "state": {}
     },
     "5c3d196004a8411390e2e32f047e0a8a": {
      "model_module": "@jupyter-widgets/controls",
      "model_module_version": "1.4.0",
      "model_name": "HTMLModel",
      "state": {
       "layout": "IPY_MODEL_73dbaa253f8145db91b6866ef530e5a4",
       "style": "IPY_MODEL_faadee1f08ca46509a432fcf1db4791c",
       "value": "[loss: 0.092, acc: 0.711] : 100% 104/104 [00:29&lt;00:00,  3.58it/s]"
      }
     },
     "5dd87a3418e54a5b869e8e7e7ceb5ada": {
      "model_module": "@jupyter-widgets/controls",
      "model_module_version": "1.4.0",
      "model_name": "ProgressStyleModel",
      "state": {
       "description_width": ""
      }
     },
     "5e16ab1d42f14763b1fbe7e17a60ac60": {
      "model_module": "@jupyter-widgets/controls",
      "model_module_version": "1.4.0",
      "model_name": "HTMLModel",
      "state": {
       "layout": "IPY_MODEL_ee282df8d8c7451199d89e45b838c931",
       "style": "IPY_MODEL_08a1c02b17154a2190c47a65c5f586e5",
       "value": "100% 5/5 [02:25&lt;00:00, 29.29s/it]"
      }
     },
     "5e404019da784b71b4be1c356914daa7": {
      "model_module": "@jupyter-widgets/base",
      "model_module_version": "1.1.0",
      "model_name": "LayoutModel",
      "state": {}
     },
     "5e4584da499b4f4bb5d944d6008c24d8": {
      "model_module": "@jupyter-widgets/controls",
      "model_module_version": "1.4.0",
      "model_name": "IntProgressModel",
      "state": {
       "bar_style": "success",
       "layout": "IPY_MODEL_f9632b78e5ac430a849d39108fabd7eb",
       "max": 17,
       "style": "IPY_MODEL_76fb6469f357415d83dfd354ce60f82a",
       "value": 17
      }
     },
     "5f8800cfd230437c9ba12a84d83e7c0d": {
      "model_module": "@jupyter-widgets/controls",
      "model_module_version": "1.4.0",
      "model_name": "HTMLModel",
      "state": {
       "layout": "IPY_MODEL_a55458f94fce48e88a51d672e7642545",
       "style": "IPY_MODEL_6868368b0db0479b8bc542ecd770d2d6",
       "value": "100% 21/21 [00:40&lt;00:00,  1.58s/it]"
      }
     },
     "607dcf71286a4c1ca3f5c436c074b016": {
      "model_module": "@jupyter-widgets/controls",
      "model_module_version": "1.4.0",
      "model_name": "HBoxModel",
      "state": {
       "children": [
        "IPY_MODEL_c7ffca312be24f0584da1475ba9715b0",
        "IPY_MODEL_0c243f7e36394f5bb7d19fee2e5631f3"
       ],
       "layout": "IPY_MODEL_9932221e040c40148d1f70bfaf9d75b4"
      }
     },
     "60b80c557a79436a86fd5688d3f512e3": {
      "model_module": "@jupyter-widgets/controls",
      "model_module_version": "1.4.0",
      "model_name": "HBoxModel",
      "state": {
       "children": [
        "IPY_MODEL_4965ff408abc4b7fa39c5761644734c3",
        "IPY_MODEL_8cc08d124e794430b3059250cfb844f6"
       ],
       "layout": "IPY_MODEL_84ce70ec742745029aa7b1525fd59787"
      }
     },
     "61257346dc66402a8e9f35d87a17b592": {
      "model_module": "@jupyter-widgets/base",
      "model_module_version": "1.1.0",
      "model_name": "LayoutModel",
      "state": {}
     },
     "61603fc0b1ed4737b5b52c0e18389141": {
      "model_module": "@jupyter-widgets/base",
      "model_module_version": "1.1.0",
      "model_name": "LayoutModel",
      "state": {}
     },
     "61a9bdc2f68a4718b2dee6badfa4317d": {
      "model_module": "@jupyter-widgets/controls",
      "model_module_version": "1.4.0",
      "model_name": "HTMLModel",
      "state": {
       "layout": "IPY_MODEL_1b0c3a4187204103bb05d900c2d14175",
       "style": "IPY_MODEL_671ee159c4cd46dda95a3ae2de10a17c",
       "value": "100% 22/22 [00:03&lt;00:00,  6.51it/s]"
      }
     },
     "634056d198d04404ae2338ddcce4264a": {
      "model_module": "@jupyter-widgets/controls",
      "model_module_version": "1.4.0",
      "model_name": "HBoxModel",
      "state": {
       "children": [
        "IPY_MODEL_8e00ea27ca9643928519819f0a7179e6",
        "IPY_MODEL_5e16ab1d42f14763b1fbe7e17a60ac60"
       ],
       "layout": "IPY_MODEL_275684cf0f1d43ada10fde64ac951c62"
      }
     },
     "636685c3625f49828ce4bdf0df613da9": {
      "model_module": "@jupyter-widgets/controls",
      "model_module_version": "1.4.0",
      "model_name": "IntProgressModel",
      "state": {
       "bar_style": "success",
       "layout": "IPY_MODEL_51df18d4f1a242508291b1e1eff3d1e5",
       "max": 17,
       "style": "IPY_MODEL_0cf544976b5d4abf88b9eaa5deb4e65d",
       "value": 17
      }
     },
     "671ee159c4cd46dda95a3ae2de10a17c": {
      "model_module": "@jupyter-widgets/controls",
      "model_module_version": "1.4.0",
      "model_name": "DescriptionStyleModel",
      "state": {
       "description_width": ""
      }
     },
     "6798a913dce747dd93af616eccc62f96": {
      "model_module": "@jupyter-widgets/controls",
      "model_module_version": "1.4.0",
      "model_name": "HTMLModel",
      "state": {
       "layout": "IPY_MODEL_a21dab9914474712b7e56e9f25aff6bf",
       "style": "IPY_MODEL_150e8de27e454bb1ae504ac71db91393",
       "value": "  0% 0/17 [00:00&lt;?, ?it/s]"
      }
     },
     "6868368b0db0479b8bc542ecd770d2d6": {
      "model_module": "@jupyter-widgets/controls",
      "model_module_version": "1.4.0",
      "model_name": "DescriptionStyleModel",
      "state": {
       "description_width": ""
      }
     },
     "687a9023d2f9437facd1d167f148751d": {
      "model_module": "@jupyter-widgets/controls",
      "model_module_version": "1.4.0",
      "model_name": "IntProgressModel",
      "state": {
       "bar_style": "success",
       "layout": "IPY_MODEL_9eb383f289b043af984168ae97d0d20c",
       "max": 17,
       "style": "IPY_MODEL_9a932dd6950746c19fde3372a64e2caf",
       "value": 17
      }
     },
     "68f04e698a454134bb2525250cad13ff": {
      "model_module": "@jupyter-widgets/controls",
      "model_module_version": "1.4.0",
      "model_name": "HTMLModel",
      "state": {
       "layout": "IPY_MODEL_6dcee1d85a834a0ab6c202635cb3d28a",
       "style": "IPY_MODEL_4f8bc04eebaf45eeaedb6c0d15233c99",
       "value": "  0% 0/17 [00:00&lt;?, ?it/s]"
      }
     },
     "6bd795c5e95a40448733b0ac53ad3a2b": {
      "model_module": "@jupyter-widgets/base",
      "model_module_version": "1.1.0",
      "model_name": "LayoutModel",
      "state": {}
     },
     "6c50099faca14d66851b5e3788efe740": {
      "model_module": "@jupyter-widgets/controls",
      "model_module_version": "1.4.0",
      "model_name": "DescriptionStyleModel",
      "state": {
       "description_width": ""
      }
     },
     "6c5ff201554049f199913e14c51a7fd3": {
      "model_module": "@jupyter-widgets/base",
      "model_module_version": "1.1.0",
      "model_name": "LayoutModel",
      "state": {}
     },
     "6cf1a6722269493ca93f25e8477f623d": {
      "model_module": "@jupyter-widgets/controls",
      "model_module_version": "1.4.0",
      "model_name": "IntProgressModel",
      "state": {
       "bar_style": "danger",
       "layout": "IPY_MODEL_d8faf73e07df42138fd9ac76f4b9c932",
       "max": 17,
       "style": "IPY_MODEL_4da5929ef2b34dfd9297b6ce6fd6dee1"
      }
     },
     "6d35b6c0ff7f4051947298657049a354": {
      "model_module": "@jupyter-widgets/controls",
      "model_module_version": "1.4.0",
      "model_name": "IntProgressModel",
      "state": {
       "description": "Epoch 2",
       "layout": "IPY_MODEL_37d8e2d862bb470ea60bf5123ab7d0b0",
       "max": 104,
       "style": "IPY_MODEL_1e4dfb75fd9142d5bee9d68137afa2cd",
       "value": 104
      }
     },
     "6dcee1d85a834a0ab6c202635cb3d28a": {
      "model_module": "@jupyter-widgets/base",
      "model_module_version": "1.1.0",
      "model_name": "LayoutModel",
      "state": {}
     },
     "6e972067308b45e5b0f3c913e75ff38e": {
      "model_module": "@jupyter-widgets/base",
      "model_module_version": "1.1.0",
      "model_name": "LayoutModel",
      "state": {}
     },
     "704076b18a9543dea100aa58b3ac1859": {
      "model_module": "@jupyter-widgets/controls",
      "model_module_version": "1.4.0",
      "model_name": "DescriptionStyleModel",
      "state": {
       "description_width": ""
      }
     },
     "714aeecf33c54368bc69b07dd9591e68": {
      "model_module": "@jupyter-widgets/controls",
      "model_module_version": "1.4.0",
      "model_name": "ProgressStyleModel",
      "state": {
       "description_width": ""
      }
     },
     "71f7fd18f0414d6797a24b2a58d32f95": {
      "model_module": "@jupyter-widgets/base",
      "model_module_version": "1.1.0",
      "model_name": "LayoutModel",
      "state": {}
     },
     "730118b6990142cf8df74e93b66ec76e": {
      "model_module": "@jupyter-widgets/base",
      "model_module_version": "1.1.0",
      "model_name": "LayoutModel",
      "state": {}
     },
     "73656687f86544e19c320824b6dcf3f3": {
      "model_module": "@jupyter-widgets/controls",
      "model_module_version": "1.4.0",
      "model_name": "DescriptionStyleModel",
      "state": {
       "description_width": ""
      }
     },
     "73dbaa253f8145db91b6866ef530e5a4": {
      "model_module": "@jupyter-widgets/base",
      "model_module_version": "1.1.0",
      "model_name": "LayoutModel",
      "state": {}
     },
     "75a733050e624e12b6a63a57ae4f6ea4": {
      "model_module": "@jupyter-widgets/controls",
      "model_module_version": "1.4.0",
      "model_name": "IntProgressModel",
      "state": {
       "bar_style": "danger",
       "layout": "IPY_MODEL_71f7fd18f0414d6797a24b2a58d32f95",
       "max": 17,
       "style": "IPY_MODEL_1eb97919c5e64b8cbf370e095a48ce9a"
      }
     },
     "76fb6469f357415d83dfd354ce60f82a": {
      "model_module": "@jupyter-widgets/controls",
      "model_module_version": "1.4.0",
      "model_name": "ProgressStyleModel",
      "state": {
       "description_width": ""
      }
     },
     "785d4ec5f54a41c4926fdf4826bdb473": {
      "model_module": "@jupyter-widgets/controls",
      "model_module_version": "1.4.0",
      "model_name": "HBoxModel",
      "state": {
       "children": [
        "IPY_MODEL_b10db06a09e748bc8cc03fc8bd588a1b",
        "IPY_MODEL_7f074d22e1d845cfa1850c09a62bd3a0"
       ],
       "layout": "IPY_MODEL_0b5ed93d91ee4e8193f4e732937b31a0"
      }
     },
     "7f074d22e1d845cfa1850c09a62bd3a0": {
      "model_module": "@jupyter-widgets/controls",
      "model_module_version": "1.4.0",
      "model_name": "HTMLModel",
      "state": {
       "layout": "IPY_MODEL_ddef5ba6ccdf47a4980c68bca49af8c0",
       "style": "IPY_MODEL_97c177c8428e4a9cb5974cf23dbb69b7",
       "value": "100% 17/17 [00:36&lt;00:00,  1.57s/it]"
      }
     },
     "7f497ece2f5c4e228477e75c4729d8c0": {
      "model_module": "@jupyter-widgets/base",
      "model_module_version": "1.1.0",
      "model_name": "LayoutModel",
      "state": {}
     },
     "84541ac2c49c4a88b9501e595a0c6b57": {
      "model_module": "@jupyter-widgets/controls",
      "model_module_version": "1.4.0",
      "model_name": "DescriptionStyleModel",
      "state": {
       "description_width": ""
      }
     },
     "84ce70ec742745029aa7b1525fd59787": {
      "model_module": "@jupyter-widgets/base",
      "model_module_version": "1.1.0",
      "model_name": "LayoutModel",
      "state": {}
     },
     "850a82358c6648cdba314b498fec382e": {
      "model_module": "@jupyter-widgets/controls",
      "model_module_version": "1.4.0",
      "model_name": "HTMLModel",
      "state": {
       "layout": "IPY_MODEL_348d0da93e9344a482ffdee4484f8480",
       "style": "IPY_MODEL_41897bb13dfd44258bdc7dff81668f30",
       "value": "[loss: 0.070, acc: 0.734] :  15% 16/104 [00:04&lt;00:24,  3.53it/s]"
      }
     },
     "852415d5c79e4dab9c3b5cc93b6e44aa": {
      "model_module": "@jupyter-widgets/base",
      "model_module_version": "1.1.0",
      "model_name": "LayoutModel",
      "state": {}
     },
     "85fd702e5d2c40afa7354a7322bb601b": {
      "model_module": "@jupyter-widgets/base",
      "model_module_version": "1.1.0",
      "model_name": "LayoutModel",
      "state": {}
     },
     "86226da81f3e4c0396e9fc0d637a2902": {
      "model_module": "@jupyter-widgets/controls",
      "model_module_version": "1.4.0",
      "model_name": "HTMLModel",
      "state": {
       "layout": "IPY_MODEL_42fee32c28a64d2cab24d34b63281671",
       "style": "IPY_MODEL_15dbc9b694b3431c8f6af30902434b6e",
       "value": "100% 17/17 [00:32&lt;00:00,  1.43s/it]"
      }
     },
     "87b4a5939c534db6ad222e8d92374808": {
      "model_module": "@jupyter-widgets/base",
      "model_module_version": "1.1.0",
      "model_name": "LayoutModel",
      "state": {}
     },
     "87bbc05ff92149d1b242fe492db549ce": {
      "model_module": "@jupyter-widgets/base",
      "model_module_version": "1.1.0",
      "model_name": "LayoutModel",
      "state": {}
     },
     "89694859689d402a892b583c823a72ca": {
      "model_module": "@jupyter-widgets/base",
      "model_module_version": "1.1.0",
      "model_name": "LayoutModel",
      "state": {}
     },
     "8b1148f117824a32868212cc847d3aec": {
      "model_module": "@jupyter-widgets/base",
      "model_module_version": "1.1.0",
      "model_name": "LayoutModel",
      "state": {}
     },
     "8c3ea2a2ec984aa3aebb1d111de3ed2c": {
      "model_module": "@jupyter-widgets/base",
      "model_module_version": "1.1.0",
      "model_name": "LayoutModel",
      "state": {}
     },
     "8cc08d124e794430b3059250cfb844f6": {
      "model_module": "@jupyter-widgets/controls",
      "model_module_version": "1.4.0",
      "model_name": "HTMLModel",
      "state": {
       "layout": "IPY_MODEL_2f62d077312a4f9eab7b68d3079dc14e",
       "style": "IPY_MODEL_bd7bbb375ed442e285cc25791bc5f0ae",
       "value": "  0% 0/17 [00:00&lt;?, ?it/s]"
      }
     },
     "8e00ea27ca9643928519819f0a7179e6": {
      "model_module": "@jupyter-widgets/controls",
      "model_module_version": "1.4.0",
      "model_name": "IntProgressModel",
      "state": {
       "bar_style": "success",
       "description": "Training",
       "layout": "IPY_MODEL_f8b9f501b4d7479dad41e7528a82a3c7",
       "max": 5,
       "style": "IPY_MODEL_14678cdc035b44ec800661315584b8e3",
       "value": 5
      }
     },
     "8ef47a2713fe40a2acca687e9da9a077": {
      "model_module": "@jupyter-widgets/base",
      "model_module_version": "1.1.0",
      "model_name": "LayoutModel",
      "state": {}
     },
     "8f6800c197444c5c88c4e1d9317652f7": {
      "model_module": "@jupyter-widgets/base",
      "model_module_version": "1.1.0",
      "model_name": "LayoutModel",
      "state": {}
     },
     "96f72c186fae4b4ba55ccfa4da422223": {
      "model_module": "@jupyter-widgets/base",
      "model_module_version": "1.1.0",
      "model_name": "LayoutModel",
      "state": {}
     },
     "97c177c8428e4a9cb5974cf23dbb69b7": {
      "model_module": "@jupyter-widgets/controls",
      "model_module_version": "1.4.0",
      "model_name": "DescriptionStyleModel",
      "state": {
       "description_width": ""
      }
     },
     "9932221e040c40148d1f70bfaf9d75b4": {
      "model_module": "@jupyter-widgets/base",
      "model_module_version": "1.1.0",
      "model_name": "LayoutModel",
      "state": {}
     },
     "996840e1fd67412693cdbec27d54a4b6": {
      "model_module": "@jupyter-widgets/base",
      "model_module_version": "1.1.0",
      "model_name": "LayoutModel",
      "state": {}
     },
     "9a3f26d7f00d4963a72aa19013a7c399": {
      "model_module": "@jupyter-widgets/base",
      "model_module_version": "1.1.0",
      "model_name": "LayoutModel",
      "state": {}
     },
     "9a472dec4939408a88215040ac55e33c": {
      "model_module": "@jupyter-widgets/base",
      "model_module_version": "1.1.0",
      "model_name": "LayoutModel",
      "state": {}
     },
     "9a932dd6950746c19fde3372a64e2caf": {
      "model_module": "@jupyter-widgets/controls",
      "model_module_version": "1.4.0",
      "model_name": "ProgressStyleModel",
      "state": {
       "description_width": ""
      }
     },
     "9ae1b270623b4dc4a6e37fc11bd47b0e": {
      "model_module": "@jupyter-widgets/controls",
      "model_module_version": "1.4.0",
      "model_name": "IntProgressModel",
      "state": {
       "description": "Epoch 1",
       "layout": "IPY_MODEL_8b1148f117824a32868212cc847d3aec",
       "max": 104,
       "style": "IPY_MODEL_4d6c395efd4a4e54a8d1d2fa3065a448",
       "value": 104
      }
     },
     "9b9ce427439d4f9c87ffa7f570b5689b": {
      "model_module": "@jupyter-widgets/controls",
      "model_module_version": "1.4.0",
      "model_name": "DescriptionStyleModel",
      "state": {
       "description_width": ""
      }
     },
     "9eb383f289b043af984168ae97d0d20c": {
      "model_module": "@jupyter-widgets/base",
      "model_module_version": "1.1.0",
      "model_name": "LayoutModel",
      "state": {}
     },
     "9f68934d4a934cb299eb5ca60cafdcbd": {
      "model_module": "@jupyter-widgets/controls",
      "model_module_version": "1.4.0",
      "model_name": "ProgressStyleModel",
      "state": {
       "description_width": ""
      }
     },
     "9fd323a8e6b84874b51e2e28ac8f7908": {
      "model_module": "@jupyter-widgets/controls",
      "model_module_version": "1.4.0",
      "model_name": "HTMLModel",
      "state": {
       "layout": "IPY_MODEL_f01180859e8048fc98363a3cab779b89",
       "style": "IPY_MODEL_0a884585629745759147d6be937e334e",
       "value": "[loss: 0.072, acc: 0.733] : 100% 104/104 [00:29&lt;00:00,  3.67it/s]"
      }
     },
     "a12836085fa3479db91ea17981a7b093": {
      "model_module": "@jupyter-widgets/controls",
      "model_module_version": "1.4.0",
      "model_name": "DescriptionStyleModel",
      "state": {
       "description_width": ""
      }
     },
     "a179f38f157e4e66851a6aa8a37023df": {
      "model_module": "@jupyter-widgets/controls",
      "model_module_version": "1.4.0",
      "model_name": "IntProgressModel",
      "state": {
       "description": "Epoch 0",
       "layout": "IPY_MODEL_9a3f26d7f00d4963a72aa19013a7c399",
       "max": 104,
       "style": "IPY_MODEL_c832b44909b147d6913706ae984ff68b",
       "value": 104
      }
     },
     "a1bc8cc5a0f248aaa3917f72447a9ccb": {
      "model_module": "@jupyter-widgets/base",
      "model_module_version": "1.1.0",
      "model_name": "LayoutModel",
      "state": {}
     },
     "a21dab9914474712b7e56e9f25aff6bf": {
      "model_module": "@jupyter-widgets/base",
      "model_module_version": "1.1.0",
      "model_name": "LayoutModel",
      "state": {}
     },
     "a42542f690274f4b83c9610032f04c01": {
      "model_module": "@jupyter-widgets/controls",
      "model_module_version": "1.4.0",
      "model_name": "HTMLModel",
      "state": {
       "layout": "IPY_MODEL_852415d5c79e4dab9c3b5cc93b6e44aa",
       "style": "IPY_MODEL_21cf66169ca44faab5c77cbcd323c71b",
       "value": "[loss: 0.073, acc: 0.732] : 100% 104/104 [00:30&lt;00:00,  3.62it/s]"
      }
     },
     "a52aec9ccfba49ebaf1825a4bea75ec9": {
      "model_module": "@jupyter-widgets/controls",
      "model_module_version": "1.4.0",
      "model_name": "IntProgressModel",
      "state": {
       "description": "Epoch 2",
       "layout": "IPY_MODEL_3e6f5cb2f157437d8c56c807e8bb3b64",
       "max": 104,
       "style": "IPY_MODEL_f848d781626f44ab8f9fb67f8a8de005",
       "value": 16
      }
     },
     "a55458f94fce48e88a51d672e7642545": {
      "model_module": "@jupyter-widgets/base",
      "model_module_version": "1.1.0",
      "model_name": "LayoutModel",
      "state": {}
     },
     "a61e089740b14ef6968ae9398c896761": {
      "model_module": "@jupyter-widgets/controls",
      "model_module_version": "1.4.0",
      "model_name": "HTMLModel",
      "state": {
       "layout": "IPY_MODEL_6e972067308b45e5b0f3c913e75ff38e",
       "style": "IPY_MODEL_ebd3bee1df534ee8957c9c16d4e39a46",
       "value": "100% 17/17 [00:33&lt;00:00,  1.52s/it]"
      }
     },
     "a8bc879d71be4665abddc934980b75c0": {
      "model_module": "@jupyter-widgets/controls",
      "model_module_version": "1.4.0",
      "model_name": "ProgressStyleModel",
      "state": {
       "description_width": "initial"
      }
     },
     "aacf86454f73427999b7b724df27e0ca": {
      "model_module": "@jupyter-widgets/base",
      "model_module_version": "1.1.0",
      "model_name": "LayoutModel",
      "state": {}
     },
     "b10db06a09e748bc8cc03fc8bd588a1b": {
      "model_module": "@jupyter-widgets/controls",
      "model_module_version": "1.4.0",
      "model_name": "IntProgressModel",
      "state": {
       "bar_style": "success",
       "layout": "IPY_MODEL_8c3ea2a2ec984aa3aebb1d111de3ed2c",
       "max": 17,
       "style": "IPY_MODEL_c207a041f94e4e21afde93037873360a",
       "value": 17
      }
     },
     "b1bc69c2eeae4b23b2689e073d957afa": {
      "model_module": "@jupyter-widgets/base",
      "model_module_version": "1.1.0",
      "model_name": "LayoutModel",
      "state": {}
     },
     "b1e8d3845bc54cb0b6a553345e1c9f37": {
      "model_module": "@jupyter-widgets/controls",
      "model_module_version": "1.4.0",
      "model_name": "HTMLModel",
      "state": {
       "layout": "IPY_MODEL_bb4d484392304519a1e034c9e1f57b0c",
       "style": "IPY_MODEL_73656687f86544e19c320824b6dcf3f3",
       "value": "100% 17/17 [00:34&lt;00:00,  1.61s/it]"
      }
     },
     "b30bae7d35b645e4bd1d680bb3b09cf1": {
      "model_module": "@jupyter-widgets/base",
      "model_module_version": "1.1.0",
      "model_name": "LayoutModel",
      "state": {}
     },
     "b46ed445caf94545bec1337f7f3956a4": {
      "model_module": "@jupyter-widgets/controls",
      "model_module_version": "1.4.0",
      "model_name": "IntProgressModel",
      "state": {
       "description": "Epoch 4",
       "layout": "IPY_MODEL_16f4fafd5dc444cda3f75ec7da807076",
       "max": 104,
       "style": "IPY_MODEL_2779d39af5824d3b91bf51f2a623a9e5",
       "value": 104
      }
     },
     "b767163890944e7b9ecf81d74f312afc": {
      "model_module": "@jupyter-widgets/controls",
      "model_module_version": "1.4.0",
      "model_name": "HBoxModel",
      "state": {
       "children": [
        "IPY_MODEL_0606d29ba1a0464fb4b3dbd8b179c27b",
        "IPY_MODEL_a61e089740b14ef6968ae9398c896761"
       ],
       "layout": "IPY_MODEL_b30bae7d35b645e4bd1d680bb3b09cf1"
      }
     },
     "ba56fe34e34f44d78321648ba5176ce2": {
      "model_module": "@jupyter-widgets/controls",
      "model_module_version": "1.4.0",
      "model_name": "HTMLModel",
      "state": {
       "layout": "IPY_MODEL_589ce6c25add4b0b844b8c55faa02793",
       "style": "IPY_MODEL_a12836085fa3479db91ea17981a7b093",
       "value": "[loss: 0.075, acc: 0.729] : 100% 104/104 [00:29&lt;00:00,  3.49it/s]"
      }
     },
     "bb4d484392304519a1e034c9e1f57b0c": {
      "model_module": "@jupyter-widgets/base",
      "model_module_version": "1.1.0",
      "model_name": "LayoutModel",
      "state": {}
     },
     "bd285fecb16548038e340bb81bf55c7b": {
      "model_module": "@jupyter-widgets/controls",
      "model_module_version": "1.4.0",
      "model_name": "IntProgressModel",
      "state": {
       "bar_style": "success",
       "layout": "IPY_MODEL_cff6c5b0dd2c4790babd701b7de6c88b",
       "max": 17,
       "style": "IPY_MODEL_d3705506e8fa49debb0aa51cde1b5379",
       "value": 17
      }
     },
     "bd7bbb375ed442e285cc25791bc5f0ae": {
      "model_module": "@jupyter-widgets/controls",
      "model_module_version": "1.4.0",
      "model_name": "DescriptionStyleModel",
      "state": {
       "description_width": ""
      }
     },
     "bf130e7347964443b6de60eca74f7973": {
      "model_module": "@jupyter-widgets/controls",
      "model_module_version": "1.4.0",
      "model_name": "DescriptionStyleModel",
      "state": {
       "description_width": ""
      }
     },
     "c1d20d0463e44ef597d87194226a077b": {
      "model_module": "@jupyter-widgets/controls",
      "model_module_version": "1.4.0",
      "model_name": "DescriptionStyleModel",
      "state": {
       "description_width": ""
      }
     },
     "c207a041f94e4e21afde93037873360a": {
      "model_module": "@jupyter-widgets/controls",
      "model_module_version": "1.4.0",
      "model_name": "ProgressStyleModel",
      "state": {
       "description_width": ""
      }
     },
     "c77a230c88d546a088541659766a50b9": {
      "model_module": "@jupyter-widgets/controls",
      "model_module_version": "1.4.0",
      "model_name": "ProgressStyleModel",
      "state": {
       "description_width": ""
      }
     },
     "c7d10c53903340d09c7a81fa0c45db75": {
      "model_module": "@jupyter-widgets/base",
      "model_module_version": "1.1.0",
      "model_name": "LayoutModel",
      "state": {}
     },
     "c7ffca312be24f0584da1475ba9715b0": {
      "model_module": "@jupyter-widgets/controls",
      "model_module_version": "1.4.0",
      "model_name": "IntProgressModel",
      "state": {
       "bar_style": "success",
       "layout": "IPY_MODEL_cb6b30ca1b7e4a79b80fdfc873de2042",
       "max": 17,
       "style": "IPY_MODEL_9f68934d4a934cb299eb5ca60cafdcbd",
       "value": 17
      }
     },
     "c832b44909b147d6913706ae984ff68b": {
      "model_module": "@jupyter-widgets/controls",
      "model_module_version": "1.4.0",
      "model_name": "ProgressStyleModel",
      "state": {
       "description_width": "initial"
      }
     },
     "cb6b30ca1b7e4a79b80fdfc873de2042": {
      "model_module": "@jupyter-widgets/base",
      "model_module_version": "1.1.0",
      "model_name": "LayoutModel",
      "state": {}
     },
     "cc65f5493b18498e8a4de89207c67997": {
      "model_module": "@jupyter-widgets/controls",
      "model_module_version": "1.4.0",
      "model_name": "IntProgressModel",
      "state": {
       "bar_style": "success",
       "layout": "IPY_MODEL_7f497ece2f5c4e228477e75c4729d8c0",
       "max": 21,
       "style": "IPY_MODEL_d14f61992d014fbe92c9dbc59e6e0d4e",
       "value": 21
      }
     },
     "cd8367f39eb64a66bdb907158f528fee": {
      "model_module": "@jupyter-widgets/controls",
      "model_module_version": "1.4.0",
      "model_name": "HBoxModel",
      "state": {
       "children": [
        "IPY_MODEL_bd285fecb16548038e340bb81bf55c7b",
        "IPY_MODEL_51a8e1e1a5934c4f89d1c32b92e71ad0"
       ],
       "layout": "IPY_MODEL_87bbc05ff92149d1b242fe492db549ce"
      }
     },
     "cde58863ef5c49618859f502b84c6191": {
      "model_module": "@jupyter-widgets/controls",
      "model_module_version": "1.4.0",
      "model_name": "HTMLModel",
      "state": {
       "layout": "IPY_MODEL_f5ef683027364d559325435d3401958d",
       "style": "IPY_MODEL_704076b18a9543dea100aa58b3ac1859",
       "value": "[loss: 0.083, acc: 0.720] : 100% 104/104 [00:28&lt;00:00,  3.63it/s]"
      }
     },
     "cf741611284d4736a42403f5cc8b7141": {
      "model_module": "@jupyter-widgets/base",
      "model_module_version": "1.1.0",
      "model_name": "LayoutModel",
      "state": {}
     },
     "cff6c5b0dd2c4790babd701b7de6c88b": {
      "model_module": "@jupyter-widgets/base",
      "model_module_version": "1.1.0",
      "model_name": "LayoutModel",
      "state": {}
     },
     "d00a448607984ce6bbcbc6e33298a066": {
      "model_module": "@jupyter-widgets/controls",
      "model_module_version": "1.4.0",
      "model_name": "HTMLModel",
      "state": {
       "layout": "IPY_MODEL_5e404019da784b71b4be1c356914daa7",
       "style": "IPY_MODEL_bf130e7347964443b6de60eca74f7973",
       "value": "100% 17/17 [00:33&lt;00:00,  1.56s/it]"
      }
     },
     "d14f61992d014fbe92c9dbc59e6e0d4e": {
      "model_module": "@jupyter-widgets/controls",
      "model_module_version": "1.4.0",
      "model_name": "ProgressStyleModel",
      "state": {
       "description_width": ""
      }
     },
     "d25a651b0355405aa52982b6e15900e8": {
      "model_module": "@jupyter-widgets/controls",
      "model_module_version": "1.4.0",
      "model_name": "IntProgressModel",
      "state": {
       "bar_style": "success",
       "layout": "IPY_MODEL_d6035183e0f84aa883b53cc790aa7895",
       "max": 16,
       "style": "IPY_MODEL_dac3d4c9a20d4953a0263db12d146774",
       "value": 16
      }
     },
     "d3705506e8fa49debb0aa51cde1b5379": {
      "model_module": "@jupyter-widgets/controls",
      "model_module_version": "1.4.0",
      "model_name": "ProgressStyleModel",
      "state": {
       "description_width": ""
      }
     },
     "d4a4c0912193488ca11d53fbcd24e4f6": {
      "model_module": "@jupyter-widgets/controls",
      "model_module_version": "1.4.0",
      "model_name": "DescriptionStyleModel",
      "state": {
       "description_width": ""
      }
     },
     "d4aa0dbc0a7c413089b9c5a7ab653d4d": {
      "model_module": "@jupyter-widgets/controls",
      "model_module_version": "1.4.0",
      "model_name": "ProgressStyleModel",
      "state": {
       "description_width": ""
      }
     },
     "d6035183e0f84aa883b53cc790aa7895": {
      "model_module": "@jupyter-widgets/base",
      "model_module_version": "1.1.0",
      "model_name": "LayoutModel",
      "state": {}
     },
     "d8faf73e07df42138fd9ac76f4b9c932": {
      "model_module": "@jupyter-widgets/base",
      "model_module_version": "1.1.0",
      "model_name": "LayoutModel",
      "state": {}
     },
     "d9848a16139b4791af034e6f76b325ba": {
      "model_module": "@jupyter-widgets/controls",
      "model_module_version": "1.4.0",
      "model_name": "IntProgressModel",
      "state": {
       "bar_style": "success",
       "layout": "IPY_MODEL_f111fc4082a340249679f582714ad1e0",
       "max": 21,
       "style": "IPY_MODEL_5dd87a3418e54a5b869e8e7e7ceb5ada",
       "value": 21
      }
     },
     "d9f73866acf14628a9ddaee76587397d": {
      "model_module": "@jupyter-widgets/base",
      "model_module_version": "1.1.0",
      "model_name": "LayoutModel",
      "state": {}
     },
     "dac3d4c9a20d4953a0263db12d146774": {
      "model_module": "@jupyter-widgets/controls",
      "model_module_version": "1.4.0",
      "model_name": "ProgressStyleModel",
      "state": {
       "description_width": ""
      }
     },
     "dc58c65c725e40c3a50df7650ff7b823": {
      "model_module": "@jupyter-widgets/controls",
      "model_module_version": "1.4.0",
      "model_name": "HBoxModel",
      "state": {
       "children": [
        "IPY_MODEL_e4fd549a3e394f7da66e69261f09dd0e",
        "IPY_MODEL_261e1400342346488883df1a91127b15"
       ],
       "layout": "IPY_MODEL_6c5ff201554049f199913e14c51a7fd3"
      }
     },
     "dd4a14452a664652a3308cab03c0bbfa": {
      "model_module": "@jupyter-widgets/base",
      "model_module_version": "1.1.0",
      "model_name": "LayoutModel",
      "state": {}
     },
     "ddef5ba6ccdf47a4980c68bca49af8c0": {
      "model_module": "@jupyter-widgets/base",
      "model_module_version": "1.1.0",
      "model_name": "LayoutModel",
      "state": {}
     },
     "e09351ecfe924421be82c634f4dbf719": {
      "model_module": "@jupyter-widgets/controls",
      "model_module_version": "1.4.0",
      "model_name": "DescriptionStyleModel",
      "state": {
       "description_width": ""
      }
     },
     "e19fcd5ad262440e906914b80ea7797c": {
      "model_module": "@jupyter-widgets/base",
      "model_module_version": "1.1.0",
      "model_name": "LayoutModel",
      "state": {}
     },
     "e1d7bd98291c4acab655ca2d0abb3d92": {
      "model_module": "@jupyter-widgets/controls",
      "model_module_version": "1.4.0",
      "model_name": "DescriptionStyleModel",
      "state": {
       "description_width": ""
      }
     },
     "e2796d1ec24d415da728d6c21e889dd8": {
      "model_module": "@jupyter-widgets/base",
      "model_module_version": "1.1.0",
      "model_name": "LayoutModel",
      "state": {}
     },
     "e3c440203b3c40aa861c42cd67cf35b2": {
      "model_module": "@jupyter-widgets/controls",
      "model_module_version": "1.4.0",
      "model_name": "HBoxModel",
      "state": {
       "children": [
        "IPY_MODEL_a52aec9ccfba49ebaf1825a4bea75ec9",
        "IPY_MODEL_850a82358c6648cdba314b498fec382e"
       ],
       "layout": "IPY_MODEL_9a472dec4939408a88215040ac55e33c"
      }
     },
     "e3e82d1431344097a25ad6933c770005": {
      "model_module": "@jupyter-widgets/controls",
      "model_module_version": "1.4.0",
      "model_name": "IntProgressModel",
      "state": {
       "bar_style": "success",
       "layout": "IPY_MODEL_dd4a14452a664652a3308cab03c0bbfa",
       "max": 17,
       "style": "IPY_MODEL_15e13856558a4d2790a724e894a71861",
       "value": 17
      }
     },
     "e4ab606c07f34027956ff3d57c71da0d": {
      "model_module": "@jupyter-widgets/controls",
      "model_module_version": "1.4.0",
      "model_name": "ProgressStyleModel",
      "state": {
       "description_width": ""
      }
     },
     "e4fd549a3e394f7da66e69261f09dd0e": {
      "model_module": "@jupyter-widgets/controls",
      "model_module_version": "1.4.0",
      "model_name": "IntProgressModel",
      "state": {
       "description": "Training",
       "layout": "IPY_MODEL_12444795e51b46fc977d96b2e9598876",
       "max": 5,
       "style": "IPY_MODEL_047f4dbb72324a6696035081e673b0e3",
       "value": 2
      }
     },
     "e7b562ae63c149188e676efaf0f4b950": {
      "model_module": "@jupyter-widgets/controls",
      "model_module_version": "1.4.0",
      "model_name": "DescriptionStyleModel",
      "state": {
       "description_width": ""
      }
     },
     "e85affa094fb4486b91cb60e9b61ebee": {
      "model_module": "@jupyter-widgets/controls",
      "model_module_version": "1.4.0",
      "model_name": "IntProgressModel",
      "state": {
       "bar_style": "danger",
       "layout": "IPY_MODEL_aacf86454f73427999b7b724df27e0ca",
       "max": 16,
       "style": "IPY_MODEL_e4ab606c07f34027956ff3d57c71da0d"
      }
     },
     "ebd3bee1df534ee8957c9c16d4e39a46": {
      "model_module": "@jupyter-widgets/controls",
      "model_module_version": "1.4.0",
      "model_name": "DescriptionStyleModel",
      "state": {
       "description_width": ""
      }
     },
     "ec2e286a6ff544ec9e13784fa8c3bc55": {
      "model_module": "@jupyter-widgets/controls",
      "model_module_version": "1.4.0",
      "model_name": "HBoxModel",
      "state": {
       "children": [
        "IPY_MODEL_440a3f4667d84f7cb08852c334221bb8",
        "IPY_MODEL_61a9bdc2f68a4718b2dee6badfa4317d"
       ],
       "layout": "IPY_MODEL_59a80275b4f940d59fbe1e92cffb041e"
      }
     },
     "ee282df8d8c7451199d89e45b838c931": {
      "model_module": "@jupyter-widgets/base",
      "model_module_version": "1.1.0",
      "model_name": "LayoutModel",
      "state": {}
     },
     "eeb693a9206c40f6b9f6a48cc857ccad": {
      "model_module": "@jupyter-widgets/controls",
      "model_module_version": "1.4.0",
      "model_name": "HBoxModel",
      "state": {
       "children": [
        "IPY_MODEL_d25a651b0355405aa52982b6e15900e8",
        "IPY_MODEL_4c9be232d81d45fa9943f37223ef1129"
       ],
       "layout": "IPY_MODEL_4253bdc270fa4c6a83bb74134bc006ed"
      }
     },
     "f01180859e8048fc98363a3cab779b89": {
      "model_module": "@jupyter-widgets/base",
      "model_module_version": "1.1.0",
      "model_name": "LayoutModel",
      "state": {}
     },
     "f111fc4082a340249679f582714ad1e0": {
      "model_module": "@jupyter-widgets/base",
      "model_module_version": "1.1.0",
      "model_name": "LayoutModel",
      "state": {}
     },
     "f2a48d78157c4e3ca70f768bf16f40fb": {
      "model_module": "@jupyter-widgets/controls",
      "model_module_version": "1.4.0",
      "model_name": "HBoxModel",
      "state": {
       "children": [
        "IPY_MODEL_e85affa094fb4486b91cb60e9b61ebee",
        "IPY_MODEL_fa34516d74a74bec84457e42cd7767c7"
       ],
       "layout": "IPY_MODEL_b1bc69c2eeae4b23b2689e073d957afa"
      }
     },
     "f5ef683027364d559325435d3401958d": {
      "model_module": "@jupyter-widgets/base",
      "model_module_version": "1.1.0",
      "model_name": "LayoutModel",
      "state": {}
     },
     "f6d2ed53bb59406d89f299953cc99ec1": {
      "model_module": "@jupyter-widgets/controls",
      "model_module_version": "1.4.0",
      "model_name": "HBoxModel",
      "state": {
       "children": [
        "IPY_MODEL_636685c3625f49828ce4bdf0df613da9",
        "IPY_MODEL_d00a448607984ce6bbcbc6e33298a066"
       ],
       "layout": "IPY_MODEL_06bfd58868384053b26b926c9c746b27"
      }
     },
     "f802c3c5f8764428a33f16971be9a5c6": {
      "model_module": "@jupyter-widgets/base",
      "model_module_version": "1.1.0",
      "model_name": "LayoutModel",
      "state": {}
     },
     "f848d781626f44ab8f9fb67f8a8de005": {
      "model_module": "@jupyter-widgets/controls",
      "model_module_version": "1.4.0",
      "model_name": "ProgressStyleModel",
      "state": {
       "description_width": "initial"
      }
     },
     "f8b9f501b4d7479dad41e7528a82a3c7": {
      "model_module": "@jupyter-widgets/base",
      "model_module_version": "1.1.0",
      "model_name": "LayoutModel",
      "state": {}
     },
     "f9632b78e5ac430a849d39108fabd7eb": {
      "model_module": "@jupyter-widgets/base",
      "model_module_version": "1.1.0",
      "model_name": "LayoutModel",
      "state": {}
     },
     "fa34516d74a74bec84457e42cd7767c7": {
      "model_module": "@jupyter-widgets/controls",
      "model_module_version": "1.4.0",
      "model_name": "HTMLModel",
      "state": {
       "layout": "IPY_MODEL_96f72c186fae4b4ba55ccfa4da422223",
       "style": "IPY_MODEL_84541ac2c49c4a88b9501e595a0c6b57",
       "value": "  0% 0/16 [00:00&lt;?, ?it/s]"
      }
     },
     "faadee1f08ca46509a432fcf1db4791c": {
      "model_module": "@jupyter-widgets/controls",
      "model_module_version": "1.4.0",
      "model_name": "DescriptionStyleModel",
      "state": {
       "description_width": ""
      }
     },
     "fbbce90bb6e9472c9565ff3b4ce86c31": {
      "model_module": "@jupyter-widgets/base",
      "model_module_version": "1.1.0",
      "model_name": "LayoutModel",
      "state": {}
     },
     "fe5b2548370b4aa3b922ae9c57aeb88f": {
      "model_module": "@jupyter-widgets/base",
      "model_module_version": "1.1.0",
      "model_name": "LayoutModel",
      "state": {}
     }
    },
    "version_major": 2,
    "version_minor": 0
   }
  }
 },
 "nbformat": 4,
 "nbformat_minor": 2
}
